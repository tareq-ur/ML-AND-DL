{
 "cells": [
  {
   "cell_type": "markdown",
   "id": "481f84cf",
   "metadata": {},
   "source": [
    "Numpy indexing"
   ]
  },
  {
   "cell_type": "code",
   "execution_count": null,
   "id": "1fe4a5a1",
   "metadata": {},
   "outputs": [
    {
     "data": {
      "text/plain": [
       "9"
      ]
     },
     "execution_count": 2,
     "metadata": {},
     "output_type": "execute_result"
    }
   ],
   "source": [
    "ind_list = [3,4,9,3,9,5,7]\n",
    "ind_list[4] #non-negative index\n",
    "ind_list[-3] #negative index"
   ]
  }
 ],
 "metadata": {
  "kernelspec": {
   "display_name": "Python 3",
   "language": "python",
   "name": "python3"
  },
  "language_info": {
   "codemirror_mode": {
    "name": "ipython",
    "version": 3
   },
   "file_extension": ".py",
   "mimetype": "text/x-python",
   "name": "python",
   "nbconvert_exporter": "python",
   "pygments_lexer": "ipython3",
   "version": "3.12.1"
  }
 },
 "nbformat": 4,
 "nbformat_minor": 5
}
