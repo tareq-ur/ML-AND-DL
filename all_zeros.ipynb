{
 "cells": [
  {
   "cell_type": "code",
   "execution_count": null,
   "id": "71f8151c",
   "metadata": {},
   "outputs": [
    {
     "name": "stdout",
     "output_type": "stream",
     "text": [
      "float64\n",
      "[[1. 1. 1. 1. 1.]\n",
      " [1. 1. 1. 1. 1.]\n",
      " [1. 1. 1. 1. 1.]\n",
      " [1. 1. 1. 1. 1.]\n",
      " [1. 1. 1. 1. 1.]]\n"
     ]
    }
   ],
   "source": [
    "import numpy as np\n",
    "#create an array with all one\n",
    "my_array = np.ones(\n",
    "    shape = (5 , 5)\n",
    ")\n",
    "print (my_array.dtype)\n",
    "print (my_array)"
   ]
  },
  {
   "cell_type": "code",
   "execution_count": null,
   "id": "a184fd21",
   "metadata": {},
   "outputs": [
    {
     "name": "stdout",
     "output_type": "stream",
     "text": [
      "int64\n"
     ]
    },
    {
     "data": {
      "text/plain": [
       "array([[10, 10, 10, 10],\n",
       "       [10, 10, 10, 10],\n",
       "       [10, 10, 10, 10],\n",
       "       [10, 10, 10, 10]])"
      ]
     },
     "execution_count": 6,
     "metadata": {},
     "output_type": "execute_result"
    }
   ],
   "source": [
    "#create an array with target value\n",
    "target_value = np.full(\n",
    "    shape = (4,4),\n",
    "    fill_value= 10\n",
    ")\n",
    "print (target_value.dtype)\n",
    "target_value"
   ]
  },
  {
   "cell_type": "code",
   "execution_count": null,
   "id": "4ba9bc5f",
   "metadata": {},
   "outputs": [
    {
     "name": "stdout",
     "output_type": "stream",
     "text": [
      "[[1. 0. 0. 0.]\n",
      " [0. 1. 0. 0.]\n",
      " [0. 0. 1. 0.]\n",
      " [0. 0. 0. 1.]]\n"
     ]
    }
   ],
   "source": [
    "#create an identity matrix\n",
    "id_matrix = np.eye( 4)\n",
    "id_matrix\n",
    "print(id_matrix)\n"
   ]
  },
  {
   "cell_type": "code",
   "execution_count": 21,
   "id": "caa85884",
   "metadata": {},
   "outputs": [
    {
     "name": "stdout",
     "output_type": "stream",
     "text": [
      "[[5.e-323 5.e-323 5.e-323 5.e-323]\n",
      " [5.e-323 5.e-323 5.e-323 5.e-323]\n",
      " [5.e-323 5.e-323 5.e-323 5.e-323]\n",
      " [5.e-323 5.e-323 5.e-323 5.e-323]]\n"
     ]
    }
   ],
   "source": [
    "#create an array with empty number\n",
    "empty_num = np.empty(\n",
    "    shape= (4,4)\n",
    ")\n",
    "print(empty_num)"
   ]
  }
 ],
 "metadata": {
  "kernelspec": {
   "display_name": "Python 3",
   "language": "python",
   "name": "python3"
  },
  "language_info": {
   "codemirror_mode": {
    "name": "ipython",
    "version": 3
   },
   "file_extension": ".py",
   "mimetype": "text/x-python",
   "name": "python",
   "nbconvert_exporter": "python",
   "pygments_lexer": "ipython3",
   "version": "3.12.1"
  }
 },
 "nbformat": 4,
 "nbformat_minor": 5
}
