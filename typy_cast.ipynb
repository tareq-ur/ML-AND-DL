{
 "cells": [
  {
   "cell_type": "markdown",
   "id": "bfbb38d0",
   "metadata": {},
   "source": [
    "type casting"
   ]
  },
  {
   "cell_type": "code",
   "execution_count": 5,
   "id": "31cc01b2",
   "metadata": {},
   "outputs": [
    {
     "name": "stdout",
     "output_type": "stream",
     "text": [
      "[[1. 0. 0. 0.]\n",
      " [0. 1. 0. 0.]\n",
      " [0. 0. 1. 0.]\n",
      " [0. 0. 0. 1.]]\n",
      "float64\n",
      "[[1 0 0 0]\n",
      " [0 1 0 0]\n",
      " [0 0 1 0]\n",
      " [0 0 0 1]]\n",
      "int64\n"
     ]
    }
   ],
   "source": [
    "#type casting\n",
    "import numpy as np\n",
    "\n",
    "type_casting = np.eye(4)\n",
    "type_int = type_casting.astype(int)\n",
    "print(type_casting)\n",
    "print(type_casting.dtype)\n",
    "print(type_int)\n",
    "print(type_int.dtype)"
   ]
  },
  {
   "cell_type": "markdown",
   "id": "66b5a6a8",
   "metadata": {},
   "source": [
    "create a sequential number "
   ]
  },
  {
   "cell_type": "code",
   "execution_count": 8,
   "id": "22a26da8",
   "metadata": {},
   "outputs": [
    {
     "name": "stdout",
     "output_type": "stream",
     "text": [
      "[0 2 4 6 8]\n"
     ]
    }
   ],
   "source": [
    "seq_num = np.arange(\n",
    "    start = 0,\n",
    "    stop = 10,\n",
    "    step = 2\n",
    ")\n",
    "print (seq_num)"
   ]
  },
  {
   "cell_type": "code",
   "execution_count": null,
   "id": "ac014d3f",
   "metadata": {},
   "outputs": [],
   "source": []
  }
 ],
 "metadata": {
  "kernelspec": {
   "display_name": "Python 3",
   "language": "python",
   "name": "python3"
  },
  "language_info": {
   "codemirror_mode": {
    "name": "ipython",
    "version": 3
   },
   "file_extension": ".py",
   "mimetype": "text/x-python",
   "name": "python",
   "nbconvert_exporter": "python",
   "pygments_lexer": "ipython3",
   "version": "3.12.1"
  }
 },
 "nbformat": 4,
 "nbformat_minor": 5
}
