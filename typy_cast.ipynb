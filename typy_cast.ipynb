{
 "cells": [
  {
   "cell_type": "markdown",
   "id": "bfbb38d0",
   "metadata": {},
   "source": [
    "type casting"
   ]
  },
  {
   "cell_type": "code",
   "execution_count": 2,
   "id": "31cc01b2",
   "metadata": {},
   "outputs": [
    {
     "name": "stdout",
     "output_type": "stream",
     "text": [
      "[[1. 0. 0. 0.]\n",
      " [0. 1. 0. 0.]\n",
      " [0. 0. 1. 0.]\n",
      " [0. 0. 0. 1.]]\n",
      "float64\n",
      "[[1 0 0 0]\n",
      " [0 1 0 0]\n",
      " [0 0 1 0]\n",
      " [0 0 0 1]]\n",
      "int64\n"
     ]
    }
   ],
   "source": [
    "#type casting\n",
    "import numpy as np\n",
    "\n",
    "type_casting = np.eye(4)\n",
    "type_int = type_casting.astype(int)\n",
    "print(type_casting)\n",
    "print(type_casting.dtype)\n",
    "print(type_int)\n",
    "print(type_int.dtype)"
   ]
  },
  {
   "cell_type": "markdown",
   "id": "66b5a6a8",
   "metadata": {},
   "source": [
    "create a sequential number "
   ]
  },
  {
   "cell_type": "code",
   "execution_count": 3,
   "id": "22a26da8",
   "metadata": {},
   "outputs": [
    {
     "name": "stdout",
     "output_type": "stream",
     "text": [
      "[0 2 4 6 8]\n"
     ]
    }
   ],
   "source": [
    "seq_num = np.arange(\n",
    "    start = 0,\n",
    "    stop = 10,\n",
    "    step = 2\n",
    ")\n",
    "print (seq_num)"
   ]
  },
  {
   "cell_type": "markdown",
   "id": "db5c575b",
   "metadata": {},
   "source": [
    "# Basic usage of linspace to create an array from 0 to 100with 5 elements"
   ]
  },
  {
   "cell_type": "code",
   "execution_count": 4,
   "id": "ac014d3f",
   "metadata": {},
   "outputs": [
    {
     "name": "stdout",
     "output_type": "stream",
     "text": [
      "[  0.  25.  50.  75. 100.]\n"
     ]
    }
   ],
   "source": [
    "lin_num = np.linspace(\n",
    "    start = 0,\n",
    "    stop = 100,\n",
    "    num= 5\n",
    ")\n",
    "print (lin_num)"
   ]
  },
  {
   "cell_type": "markdown",
   "id": "73ed410b",
   "metadata": {},
   "source": [
    "create a type of dimension array"
   ]
  },
  {
   "cell_type": "code",
   "execution_count": 8,
   "id": "938ae09b",
   "metadata": {},
   "outputs": [
    {
     "name": "stdout",
     "output_type": "stream",
     "text": [
      "value is: 40 ndim 0\n",
      "value is : [[2 4 5]\n",
      " [4 3 5]\n",
      " [3 6 4]] ndim 2\n",
      "value is : [[[2 4 5]\n",
      "  [4 3 5]\n",
      "  [3 6 4]]] ndim 3\n"
     ]
    }
   ],
   "source": [
    "# 0 dim array\n",
    "dim_0 = np.array (40)\n",
    "print ('value is:', dim_0, 'ndim', dim_0.ndim)\n",
    "\n",
    "# 2 dim array\n",
    "dim_1 = np.array(\n",
    " [   [2,4,5],\n",
    "     [4,3,5],\n",
    "    [3,6,4]]\n",
    ")\n",
    "print('value is :', dim_1, 'ndim', dim_1.ndim)\n",
    "\n",
    "\n",
    "# 2 dim array\n",
    "dim_2 = np.array(\n",
    "    [[[2,4,5],\n",
    "     [4,3,5],\n",
    "    [3,6,4]]]\n",
    ")\n",
    "print('value is :', dim_2, 'ndim', dim_2.ndim)"
   ]
  }
 ],
 "metadata": {
  "kernelspec": {
   "display_name": "Python 3",
   "language": "python",
   "name": "python3"
  },
  "language_info": {
   "codemirror_mode": {
    "name": "ipython",
    "version": 3
   },
   "file_extension": ".py",
   "mimetype": "text/x-python",
   "name": "python",
   "nbconvert_exporter": "python",
   "pygments_lexer": "ipython3",
   "version": "3.12.1"
  }
 },
 "nbformat": 4,
 "nbformat_minor": 5
}
