{
 "cells": [
  {
   "cell_type": "code",
   "execution_count": 2,
   "id": "661e8aa1",
   "metadata": {},
   "outputs": [
    {
     "name": "stdout",
     "output_type": "stream",
     "text": [
      "value is: 40 ndim 0\n",
      "value is : [[2 4 5]\n",
      " [4 3 5]\n",
      " [3 6 4]] ndim 2\n",
      "value is : [[[2 4 5]\n",
      "  [4 3 5]\n",
      "  [3 6 4]]] ndim 3\n"
     ]
    }
   ],
   "source": [
    "import numpy as np\n",
    "# 0 dim array\n",
    "dim_0 = np.array (40)\n",
    "\n",
    "\n",
    "print ('value is:', dim_0, 'ndim', dim_0.ndim)\n",
    "\n",
    "\n",
    "\n",
    "# 2 dim array\n",
    "\n",
    "dim_1 = np.array(\n",
    " [   [2,4,5],\n",
    "     [4,3,5],\n",
    "    [3,6,4]] \n",
    "\n",
    ")\n",
    "\n",
    "print('value is :', dim_1, 'ndim', dim_1.ndim)\n",
    "\n",
    "\n",
    "\n",
    "# 3 dim array\n",
    "dim_2 = np.array(\n",
    "    [[[2,4,5],\n",
    "     [4,3,5],\n",
    "    [3,6,4]]]\n",
    ")\n",
    "print('value is :', dim_2, 'ndim', dim_2.ndim)"
   ]
  },
  {
   "cell_type": "markdown",
   "id": "fc421df9",
   "metadata": {},
   "source": [
    "slicing numpy array"
   ]
  },
  {
   "cell_type": "code",
   "execution_count": 10,
   "id": "987df103",
   "metadata": {},
   "outputs": [
    {
     "name": "stdout",
     "output_type": "stream",
     "text": [
      "[4 5 7]\n"
     ]
    }
   ],
   "source": [
    "#slicing 1dim array\n",
    "slice_1dim_array = np.array(\n",
    "     [2,4,5,7,8]\n",
    ")\n",
    "print(slice_1dim_array[1:-1])"
   ]
  },
  {
   "cell_type": "code",
   "execution_count": null,
   "id": "1697696f",
   "metadata": {},
   "outputs": [
    {
     "name": "stdout",
     "output_type": "stream",
     "text": [
      "[[3 5 8]\n",
      " [6 4 2]]\n"
     ]
    }
   ],
   "source": [
    "#sliing 2dim array\n",
    "slice_array = np.array(\n",
    "     [[2,4,5,7,8],\n",
    "      [4,3,5,8,5],\n",
    "      [3,6,4,2,9,],\n",
    "      [4,3,5,8,5]] \n",
    "#we need [3,5,8],[6,4,2]\n",
    ")\n",
    "print (slice_array[1:3,1:4])"
   ]
  }
 ],
 "metadata": {
  "kernelspec": {
   "display_name": "Python 3",
   "language": "python",
   "name": "python3"
  },
  "language_info": {
   "codemirror_mode": {
    "name": "ipython",
    "version": 3
   },
   "file_extension": ".py",
   "mimetype": "text/x-python",
   "name": "python",
   "nbconvert_exporter": "python",
   "pygments_lexer": "ipython3",
   "version": "3.12.1"
  }
 },
 "nbformat": 4,
 "nbformat_minor": 5
}
